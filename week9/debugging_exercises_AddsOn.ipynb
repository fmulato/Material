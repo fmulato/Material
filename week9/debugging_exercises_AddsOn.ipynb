{
 "cells": [
  {
   "cell_type": "markdown",
   "id": "73afa10f",
   "metadata": {},
   "source": [
    "# Debugging Exercises\n",
    "---\n",
    "## Solve these debugging problems!"
   ]
  },
  {
   "cell_type": "markdown",
   "id": "a7da7e1d",
   "metadata": {},
   "source": [
    "## Instructions\n",
    "Each of the following exercises contains a bug. Your task is to:\n",
    "1. Identify the bug.\n",
    "2. Use debugging techniques (print, `pdb`, logging) to find the issue.\n",
    "3. Fix the issue and ensure the function runs correctly.\n",
    "Let's get started!\n"
   ]
  },
  {
   "cell_type": "markdown",
   "id": "fce7bf94",
   "metadata": {},
   "source": [
    "### Exercise 1: Off-by-One Error"
   ]
  },
  {
   "cell_type": "code",
   "execution_count": 1,
   "id": "e02fb0d9",
   "metadata": {},
   "outputs": [
    {
     "name": "stdout",
     "output_type": "stream",
     "text": [
      "10\n"
     ]
    }
   ],
   "source": [
    "# This function should return the sum of numbers from 1 to n\n",
    "def sum_numbers(n):\n",
    "    total = 0\n",
    "    for i in range(1, n):  # Bug: This excludes n\n",
    "        total += i\n",
    "    return total\n",
    "\n",
    "print(sum_numbers(5))  # Expected output: 15, but it returns 10"
   ]
  },
  {
   "cell_type": "markdown",
   "id": "6752f9c6",
   "metadata": {},
   "source": [
    "#### the range should be (1, n+1) instead of (1, n)"
   ]
  },
  {
   "cell_type": "code",
   "execution_count": null,
   "id": "0a94f689",
   "metadata": {},
   "outputs": [],
   "source": [
    "# correct version\n",
    "def sum_numbers(n):\n",
    "    total = 0\n",
    "    for i in range(1, n+1):  \n",
    "        total += i\n",
    "    return total\n",
    "\n",
    "print(sum_numbers(5))  # Expected output: 15, but it returns 10"
   ]
  },
  {
   "cell_type": "markdown",
   "id": "3fb8c05d",
   "metadata": {},
   "source": [
    "### Exercise 2: List Index Error"
   ]
  },
  {
   "cell_type": "code",
   "execution_count": 15,
   "id": "9f3ff5ce",
   "metadata": {},
   "outputs": [
    {
     "ename": "IndexError",
     "evalue": "list index out of range",
     "output_type": "error",
     "traceback": [
      "\u001b[1;31m---------------------------------------------------------------------------\u001b[0m",
      "\u001b[1;31mIndexError\u001b[0m                                Traceback (most recent call last)",
      "Cell \u001b[1;32mIn[15], line 5\u001b[0m\n\u001b[0;32m      2\u001b[0m \u001b[38;5;28;01mdef\u001b[39;00m \u001b[38;5;21mget_last_item\u001b[39m(lst):\n\u001b[0;32m      3\u001b[0m     \u001b[38;5;28;01mreturn\u001b[39;00m lst[\u001b[38;5;28mlen\u001b[39m(lst)]  \u001b[38;5;66;03m# Bug: Index should be len(lst) - 1\u001b[39;00m\n\u001b[1;32m----> 5\u001b[0m \u001b[38;5;28mprint\u001b[39m(\u001b[43mget_last_item\u001b[49m\u001b[43m(\u001b[49m\u001b[43m[\u001b[49m\u001b[38;5;241;43m1\u001b[39;49m\u001b[43m,\u001b[49m\u001b[43m \u001b[49m\u001b[38;5;241;43m2\u001b[39;49m\u001b[43m,\u001b[49m\u001b[43m \u001b[49m\u001b[38;5;241;43m3\u001b[39;49m\u001b[43m]\u001b[49m\u001b[43m)\u001b[49m)  \u001b[38;5;66;03m# Expected output: 3, but causes an error\u001b[39;00m\n",
      "Cell \u001b[1;32mIn[15], line 3\u001b[0m, in \u001b[0;36mget_last_item\u001b[1;34m(lst)\u001b[0m\n\u001b[0;32m      2\u001b[0m \u001b[38;5;28;01mdef\u001b[39;00m \u001b[38;5;21mget_last_item\u001b[39m(lst):\n\u001b[1;32m----> 3\u001b[0m     \u001b[38;5;28;01mreturn\u001b[39;00m \u001b[43mlst\u001b[49m\u001b[43m[\u001b[49m\u001b[38;5;28;43mlen\u001b[39;49m\u001b[43m(\u001b[49m\u001b[43mlst\u001b[49m\u001b[43m)\u001b[49m\u001b[43m]\u001b[49m\n",
      "\u001b[1;31mIndexError\u001b[0m: list index out of range"
     ]
    }
   ],
   "source": [
    "# This function should return the last item in a list\n",
    "def get_last_item(lst):\n",
    "    return lst[len(lst)]  # Bug: Index should be len(lst) - 1\n",
    "\n",
    "print(get_last_item([1, 2, 3]))  # Expected output: 3, but causes an error"
   ]
  },
  {
   "cell_type": "markdown",
   "id": "797ab228",
   "metadata": {},
   "source": [
    "#### the function len() return the size of list, but python starts with 0, so we should subtract 1"
   ]
  },
  {
   "cell_type": "code",
   "execution_count": 5,
   "id": "e5e29470",
   "metadata": {},
   "outputs": [
    {
     "name": "stdout",
     "output_type": "stream",
     "text": [
      "3\n"
     ]
    }
   ],
   "source": [
    "# Correct version\n",
    "def get_last_item(lst):\n",
    "    return lst[len(lst)-1]  # Bug: Index should be len(lst) - 1\n",
    "\n",
    "print(get_last_item([1, 2, 3]))  # Expected output: 3, but causes an error"
   ]
  },
  {
   "cell_type": "markdown",
   "id": "2dd95c90",
   "metadata": {},
   "source": [
    "### Exercise 3: String Concatenation Error"
   ]
  },
  {
   "cell_type": "code",
   "execution_count": 6,
   "id": "f727d0c0",
   "metadata": {},
   "outputs": [
    {
     "ename": "TypeError",
     "evalue": "can only concatenate str (not \"int\") to str",
     "output_type": "error",
     "traceback": [
      "\u001b[1;31m---------------------------------------------------------------------------\u001b[0m",
      "\u001b[1;31mTypeError\u001b[0m                                 Traceback (most recent call last)",
      "Cell \u001b[1;32mIn[6], line 5\u001b[0m\n\u001b[0;32m      2\u001b[0m \u001b[38;5;28;01mdef\u001b[39;00m \u001b[38;5;21mgreet_user\u001b[39m(name, age):\n\u001b[0;32m      3\u001b[0m     \u001b[38;5;28;01mreturn\u001b[39;00m \u001b[38;5;124m'\u001b[39m\u001b[38;5;124mHello \u001b[39m\u001b[38;5;124m'\u001b[39m \u001b[38;5;241m+\u001b[39m name \u001b[38;5;241m+\u001b[39m \u001b[38;5;124m'\u001b[39m\u001b[38;5;124m, you are \u001b[39m\u001b[38;5;124m'\u001b[39m \u001b[38;5;241m+\u001b[39m age \u001b[38;5;241m+\u001b[39m \u001b[38;5;124m'\u001b[39m\u001b[38;5;124m years old.\u001b[39m\u001b[38;5;124m'\u001b[39m  \u001b[38;5;66;03m# Bug: age is an integer\u001b[39;00m\n\u001b[1;32m----> 5\u001b[0m \u001b[38;5;28mprint\u001b[39m(\u001b[43mgreet_user\u001b[49m\u001b[43m(\u001b[49m\u001b[38;5;124;43m'\u001b[39;49m\u001b[38;5;124;43mAlice\u001b[39;49m\u001b[38;5;124;43m'\u001b[39;49m\u001b[43m,\u001b[49m\u001b[43m \u001b[49m\u001b[38;5;241;43m25\u001b[39;49m\u001b[43m)\u001b[49m)  \u001b[38;5;66;03m# Expected output: 'Hello Alice, you are 25 years old.', but causes an error\u001b[39;00m\n",
      "Cell \u001b[1;32mIn[6], line 3\u001b[0m, in \u001b[0;36mgreet_user\u001b[1;34m(name, age)\u001b[0m\n\u001b[0;32m      2\u001b[0m \u001b[38;5;28;01mdef\u001b[39;00m \u001b[38;5;21mgreet_user\u001b[39m(name, age):\n\u001b[1;32m----> 3\u001b[0m     \u001b[38;5;28;01mreturn\u001b[39;00m \u001b[38;5;124;43m'\u001b[39;49m\u001b[38;5;124;43mHello \u001b[39;49m\u001b[38;5;124;43m'\u001b[39;49m\u001b[43m \u001b[49m\u001b[38;5;241;43m+\u001b[39;49m\u001b[43m \u001b[49m\u001b[43mname\u001b[49m\u001b[43m \u001b[49m\u001b[38;5;241;43m+\u001b[39;49m\u001b[43m \u001b[49m\u001b[38;5;124;43m'\u001b[39;49m\u001b[38;5;124;43m, you are \u001b[39;49m\u001b[38;5;124;43m'\u001b[39;49m\u001b[43m \u001b[49m\u001b[38;5;241;43m+\u001b[39;49m\u001b[43m \u001b[49m\u001b[43mage\u001b[49m \u001b[38;5;241m+\u001b[39m \u001b[38;5;124m'\u001b[39m\u001b[38;5;124m years old.\u001b[39m\u001b[38;5;124m'\u001b[39m\n",
      "\u001b[1;31mTypeError\u001b[0m: can only concatenate str (not \"int\") to str"
     ]
    }
   ],
   "source": [
    "# This function should return a formatted string\n",
    "def greet_user(name, age):\n",
    "    return 'Hello ' + name + ', you are ' + age + ' years old.'  # Bug: age is an integer\n",
    "\n",
    "print(greet_user('Alice', 25))  # Expected output: 'Hello Alice, you are 25 years old.', but causes an error"
   ]
  },
  {
   "cell_type": "markdown",
   "id": "3ded2039",
   "metadata": {},
   "source": [
    "#### age is a integer and it is not possible concatenate integer to a string. To fix it, we can convert age to string."
   ]
  },
  {
   "cell_type": "code",
   "execution_count": 7,
   "id": "093f2cc6",
   "metadata": {},
   "outputs": [
    {
     "name": "stdout",
     "output_type": "stream",
     "text": [
      "Hello Alice, you are 25 years old.\n"
     ]
    }
   ],
   "source": [
    "# This function should return a formatted string\n",
    "def greet_user(name, age):\n",
    "    age = str(age)  # Convert age to a string\n",
    "    return 'Hello ' + name + ', you are ' + age + ' years old.'  # Bug: age is an integer\n",
    "\n",
    "print(greet_user('Alice', 25))  # Expected output: 'Hello Alice, you are 25 years old.', but causes an error"
   ]
  },
  {
   "cell_type": "markdown",
   "id": "e45924b6",
   "metadata": {},
   "source": [
    "### Exercise 4: Division by Zero"
   ]
  },
  {
   "cell_type": "code",
   "execution_count": 12,
   "id": "98641134",
   "metadata": {},
   "outputs": [
    {
     "ename": "ZeroDivisionError",
     "evalue": "division by zero",
     "output_type": "error",
     "traceback": [
      "\u001b[1;31m---------------------------------------------------------------------------\u001b[0m",
      "\u001b[1;31mZeroDivisionError\u001b[0m                         Traceback (most recent call last)",
      "Cell \u001b[1;32mIn[12], line 5\u001b[0m\n\u001b[0;32m      2\u001b[0m \u001b[38;5;28;01mdef\u001b[39;00m \u001b[38;5;21msafe_divide\u001b[39m(a, b):\n\u001b[0;32m      3\u001b[0m     \u001b[38;5;28;01mreturn\u001b[39;00m a \u001b[38;5;241m/\u001b[39m b\n\u001b[1;32m----> 5\u001b[0m \u001b[38;5;28mprint\u001b[39m(\u001b[43msafe_divide\u001b[49m\u001b[43m(\u001b[49m\u001b[38;5;241;43m10\u001b[39;49m\u001b[43m,\u001b[49m\u001b[43m \u001b[49m\u001b[38;5;241;43m0\u001b[39;49m\u001b[43m)\u001b[49m)  \u001b[38;5;66;03m# Expected: Handle the zero division case\u001b[39;00m\n",
      "Cell \u001b[1;32mIn[12], line 3\u001b[0m, in \u001b[0;36msafe_divide\u001b[1;34m(a, b)\u001b[0m\n\u001b[0;32m      2\u001b[0m \u001b[38;5;28;01mdef\u001b[39;00m \u001b[38;5;21msafe_divide\u001b[39m(a, b):\n\u001b[1;32m----> 3\u001b[0m     \u001b[38;5;28;01mreturn\u001b[39;00m \u001b[43ma\u001b[49m\u001b[43m \u001b[49m\u001b[38;5;241;43m/\u001b[39;49m\u001b[43m \u001b[49m\u001b[43mb\u001b[49m\n",
      "\u001b[1;31mZeroDivisionError\u001b[0m: division by zero"
     ]
    }
   ],
   "source": [
    "# This function should return the result of dividing a number by another\n",
    "def safe_divide(a, b):\n",
    "    return a / b\n",
    "\n",
    "print(safe_divide(10, 0))  # Expected: Handle the zero division case"
   ]
  },
  {
   "cell_type": "markdown",
   "id": "a22b7b14",
   "metadata": {},
   "source": [
    "#### check if the denominator is different to zero."
   ]
  },
  {
   "cell_type": "code",
   "execution_count": 14,
   "id": "29e82db8",
   "metadata": {},
   "outputs": [
    {
     "name": "stdout",
     "output_type": "stream",
     "text": [
      "Division by zero is not allowed\n",
      "3.3333333333333335\n"
     ]
    }
   ],
   "source": [
    "# This function should return the result of dividing a number by another\n",
    "def safe_divide(a, b):\n",
    "    if b != 0:\n",
    "        return a / b\n",
    "    else:\n",
    "        return 'Division by zero is not allowed'\n",
    "\n",
    "print(safe_divide(10, 0))\n",
    "print(safe_divide(10, 3))  # Expected: Handle the zero division case"
   ]
  }
 ],
 "metadata": {
  "kernelspec": {
   "display_name": "Python 3",
   "language": "python",
   "name": "python3"
  },
  "language_info": {
   "codemirror_mode": {
    "name": "ipython",
    "version": 3
   },
   "file_extension": ".py",
   "mimetype": "text/x-python",
   "name": "python",
   "nbconvert_exporter": "python",
   "pygments_lexer": "ipython3",
   "version": "3.13.0"
  }
 },
 "nbformat": 4,
 "nbformat_minor": 5
}
